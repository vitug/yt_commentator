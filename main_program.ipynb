{
 "cells": [
  {
   "cell_type": "code",
   "execution_count": null,
   "metadata": {},
   "outputs": [],
   "source": [
    "%load_ext autoreload\n",
    "%autoreload 2\n",
    "import time\n",
    "from splinter import Browser\n",
    "from stem import Signal\n",
    "from stem.control import Controller\n",
    "from IPython.display import clear_output\n",
    "from fake_useragent import UserAgent\n",
    "from selenium.webdriver.common.keys import Keys\n",
    "from selenium.webdriver.common.action_chains import ActionChains\n",
    "import matplotlib.pyplot as plt\n",
    "import json\n",
    "import datetime\n",
    "import tinydb\n",
    "import io\n",
    "import regex\n",
    "import youtube\n",
    "import common\n",
    "#%load_ext snakeviz"
   ]
  },
  {
   "cell_type": "code",
   "execution_count": null,
   "metadata": {},
   "outputs": [],
   "source": [
    "s = common.Settings()\n",
    "print([s.get_parameter('address'),\n",
    "s.get_parameter('login'),\n",
    "s.get_parameter('password')])"
   ]
  },
  {
   "cell_type": "code",
   "execution_count": null,
   "metadata": {},
   "outputs": [],
   "source": [
    "generator = common.CommentGenerator()\n",
    "text = generator.get_comment()\n",
    "print common.CommentGenerator.index\n",
    "print text.encode('utf8')"
   ]
  },
  {
   "cell_type": "code",
   "execution_count": null,
   "metadata": {},
   "outputs": [],
   "source": [
    "#test\n",
    "y = youtube.Youtube()\n",
    "y.login()\n",
    "#y.get_user_subscribers('https://www.youtube.com/channel/UCHR-wOd9AxHq89d61QnFdiQ')\n",
    "y.browser.visit('https://www.youtube.com/watch?v=i3IzFITKaVw')\n",
    "print y.browser.title, y.have_it_cyrillic_letters(y.browser.title)\n",
    "comment = y.comment_on_video()\n",
    "time.sleep(20)\n",
    "if comment:\n",
    "    y.comments.add(user=user, video=video, comment = comment)\n",
    "#y.browser.quit()"
   ]
  },
  {
   "cell_type": "code",
   "execution_count": null,
   "metadata": {},
   "outputs": [],
   "source": [
    "y.browser.quit()"
   ]
  },
  {
   "cell_type": "code",
   "execution_count": null,
   "metadata": {},
   "outputs": [],
   "source": [
    "#программа комментирования видео и подписки\n",
    "y = youtube.Youtube()  \n",
    "try:\n",
    "    y.login()\n",
    "except:\n",
    "    y.browser.quit()\n",
    "    raise Exception('login error')    \n",
    "#subs_cache = []\n",
    "if not 'subs_cache' in globals() or len(subs_cache) == 0: \n",
    "    y.get_subscriptions()\n",
    "    subs_cache = y.subscriptions\n",
    "else:\n",
    "    # берем подписчиков из кэша\n",
    "    for subs in subs_cache:\n",
    "        y.subscriptions.append(common.Subscription(subs.url, subs.name))\n",
    "print 'Наших подписок: {}'.format(len(y.subscriptions))\n",
    "if len(common.Subscription.url_list) == 0:\n",
    "    raise Exception('url list is empty!')\n",
    "i = 0\n",
    "#video_commented = False\n",
    "comment = ''\n",
    "max_from_user = 10 # сколько подписчиков берем с 1-го пользователя\n",
    "max_comments_limit = 200\n",
    "channels = y.get_channel_list()\n",
    "#for subs in reversed(channels): # каналы начиная с самой первой подписки по времени\n",
    "for subs in channels: # цикл по нашим подпискам\n",
    "    #u_subs = y.get_user_subscribers(subs.url)\n",
    "    take_from_user = 0\n",
    "    u_subs = y.get_user_subscribers(subs)\n",
    "    for user in u_subs: # цикл по подпискам пользователя\n",
    "        take_from_user += 1\n",
    "        if take_from_user > max_from_user: \n",
    "            print 'Подписчик {} от текущего пользователя, переходим к следующему'.format(max_from_user)\n",
    "            continue        \n",
    "        if not user in common.Subscription.url_list:\n",
    "            if not y.comments.is_user_commented(user):\n",
    "                amount_subs = y.open_user_page(user)\n",
    "                if amount_subs < y.max_subscribers_amount:\n",
    "                    video = y.open_last_user_video(user)\n",
    "                    comment = y.comment_on_video()\n",
    "                    if comment:\n",
    "                        y.comments.add(user=user, video=video, comment = comment)\n",
    "                    i += 1\n",
    "                    if i == max_comments_limit:\n",
    "                        y.browser.quit()\n",
    "                        raise Exception('Достигнут предел {} комментариев'.format(max_comments_limit))\n",
    "\n",
    "if not comment:\n",
    "    #print y.log.info('Не откомментировали последнее видео, возможно нужно обновить список каналов с которых берется подписка!')\n",
    "    result = y.browser.quit()\n",
    "subs_cache = y.subscriptions"
   ]
  },
  {
   "cell_type": "code",
   "execution_count": null,
   "metadata": {},
   "outputs": [],
   "source": [
    "commentators = []\n",
    "def print_comments():\n",
    "    c_list = y.browser.find_by_xpath('//*[@class=\"comment-entry\"]')\n",
    "    print len(c_list)\n",
    "    for comment in c_list:\n",
    "        #print comment\n",
    "        text = comment.find_by_tag('div')\n",
    "        for div in text:\n",
    "            if div['class'] == 'comment-text-content':\n",
    "                print div.value\n",
    "        links = comment.find_by_tag('a')\n",
    "        user = links.first['href']\n",
    "        if not user in commentators:\n",
    "            commentators.append(user)\n",
    "        \n",
    "y = Youtube()\n",
    "y.login()\n",
    "y.browser.visit('https://www.youtube.com/comments')\n",
    "while 1==1:\n",
    "    page = y.browser.find_by_xpath('//*[@id=\"yt-comments-paginator\"]')\n",
    "    #print page\n",
    "    #print page.first\n",
    "    if len(page) == 0 or not page.first.visible:\n",
    "        break\n",
    "    else:\n",
    "        page.first.click()\n",
    "print_comments()\n",
    "y.browser.visit('https://www.youtube.com/messages')\n",
    "print_comments()"
   ]
  },
  {
   "cell_type": "code",
   "execution_count": null,
   "metadata": {
    "collapsed": true
   },
   "outputs": [],
   "source": [
    "y.browser.quit()"
   ]
  },
  {
   "cell_type": "code",
   "execution_count": null,
   "metadata": {},
   "outputs": [],
   "source": [
    "#Список откоментированных видео\n",
    "#y = Youtube()\n",
    "#y.comments.is_video_commented('dsfs')\n",
    "#print user, y.comments.is_user_commented(user)\n",
    "y.comments.indent()\n",
    "c_list = y.comments.db.all()\n",
    "c_list = sorted(c_list, key = lambda item:item['date'])\n",
    "print 'Всего количество комментариев {}'.format(len(c_list))\n",
    "for c in y.comments.db.all():\n",
    "    print datetime.datetime.fromtimestamp(c['date']), c['video'], c['comment'] #c['user'],\n",
    "#y.press_subscribe()\n",
    "#y.open_last_user_video(user)"
   ]
  },
  {
   "cell_type": "code",
   "execution_count": null,
   "metadata": {
    "collapsed": true
   },
   "outputs": [],
   "source": []
  }
 ],
 "metadata": {
  "kernelspec": {
   "display_name": "Python 2",
   "language": "python",
   "name": "python2"
  },
  "language_info": {
   "codemirror_mode": {
    "name": "ipython",
    "version": 2
   },
   "file_extension": ".py",
   "mimetype": "text/x-python",
   "name": "python",
   "nbconvert_exporter": "python",
   "pygments_lexer": "ipython2",
   "version": "2.7.9"
  }
 },
 "nbformat": 4,
 "nbformat_minor": 1
}
